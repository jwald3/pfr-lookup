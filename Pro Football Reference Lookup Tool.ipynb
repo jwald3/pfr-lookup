{
 "cells": [
  {
   "cell_type": "markdown",
   "metadata": {},
   "source": [
    "# Pro Football Reference Lookup Tool\n",
    "\n",
    "Pro Football Reference uses inconsistent player identification for the URL. Because of this, trying to automate some portion of making player queries can be a headache. Luckily, PFR lists all players by their last name in their \"Players\" section. From here, the names can be tabled, the url root can be assigned to each name, and other columns can be built to further distinguish players for lookup."
   ]
  },
  {
   "cell_type": "code",
   "execution_count": 1,
   "metadata": {},
   "outputs": [
    {
     "data": {
      "text/html": [
       "<style>.container { width:80% !important; }</style>"
      ],
      "text/plain": [
       "<IPython.core.display.HTML object>"
      ]
     },
     "metadata": {},
     "output_type": "display_data"
    }
   ],
   "source": [
    "import pandas as pd\n",
    "import requests\n",
    "import httplib2\n",
    "from bs4 import BeautifulSoup, SoupStrainer\n",
    "from string import ascii_uppercase\n",
    "import re\n",
    "\n",
    "from IPython.core.display import display, HTML\n",
    "display(HTML(\"<style>.container { width:80% !important; }</style>\"))"
   ]
  },
  {
   "cell_type": "markdown",
   "metadata": {},
   "source": [
    "## Step One: Create a Table with Name and URL Root\n",
    "\n",
    "[Pro Football Reference's \"Player\" page](https://www.pro-football-reference.com/players/) will be used to get the name of every player in the site's database. This landing page only lists some players, but when a letter is selected, all players with last names starting with the letter will be available for viewing (and scraping!). Iterating through the alphabet will give access to every name, so a for loop will be utilized to accomplish that. From there, results need to be stored outside the loop."
   ]
  },
  {
   "cell_type": "code",
   "execution_count": 2,
   "metadata": {},
   "outputs": [],
   "source": [
    "names = [] # Empty list that will hold the plain text name for each player\n",
    "links = [] # Empty list that will hold the url root for each player \n",
    "\n",
    "\n",
    "# Loop through every letter and strip the players and their url links \n",
    "for c in ascii_uppercase:\n",
    "    url = f'https://www.pro-football-reference.com/players/{c}/' \n",
    "    page = requests.get(url)\n",
    "    soup = BeautifulSoup(page.content, 'html.parser')\n",
    "    soup = soup.find(id='div_players') # the html element with id of \"div_players\" has all the links for each players page\n",
    "    \n",
    "    # find all links and store them into the lists\n",
    "    for link in soup.findAll('a'):\n",
    "        names.append(link.contents[0]) # add the text name to the names list\n",
    "        links.append(link.get('href')) # add the url root to the links list"
   ]
  },
  {
   "cell_type": "markdown",
   "metadata": {},
   "source": [
    "At this point, two corresponding links are populated where the data at index n of one list is the matching value for the data at index n of the other list. The lists are of matching lengths suggesting that there is no missing or errored value. From here, the lists can be combined into a table that can be built up with other identifiers."
   ]
  },
  {
   "cell_type": "code",
   "execution_count": 6,
   "metadata": {},
   "outputs": [],
   "source": [
    "reference_df = pd.DataFrame(zip(names, links), columns=['name','url_root'])"
   ]
  },
  {
   "cell_type": "code",
   "execution_count": 7,
   "metadata": {},
   "outputs": [
    {
     "data": {
      "text/html": [
       "<div>\n",
       "<style scoped>\n",
       "    .dataframe tbody tr th:only-of-type {\n",
       "        vertical-align: middle;\n",
       "    }\n",
       "\n",
       "    .dataframe tbody tr th {\n",
       "        vertical-align: top;\n",
       "    }\n",
       "\n",
       "    .dataframe thead th {\n",
       "        text-align: right;\n",
       "    }\n",
       "</style>\n",
       "<table border=\"1\" class=\"dataframe\">\n",
       "  <thead>\n",
       "    <tr style=\"text-align: right;\">\n",
       "      <th></th>\n",
       "      <th>name</th>\n",
       "      <th>url_root</th>\n",
       "    </tr>\n",
       "  </thead>\n",
       "  <tbody>\n",
       "    <tr>\n",
       "      <th>0</th>\n",
       "      <td>Isaako Aaitui</td>\n",
       "      <td>/players/A/AaitIs00.htm</td>\n",
       "    </tr>\n",
       "    <tr>\n",
       "      <th>1</th>\n",
       "      <td>Joe Abbey</td>\n",
       "      <td>/players/A/AbbeJo20.htm</td>\n",
       "    </tr>\n",
       "    <tr>\n",
       "      <th>2</th>\n",
       "      <td>Fay Abbott</td>\n",
       "      <td>/players/A/AbboFa20.htm</td>\n",
       "    </tr>\n",
       "    <tr>\n",
       "      <th>3</th>\n",
       "      <td>Vince Abbott</td>\n",
       "      <td>/players/A/abbotvin01.htm</td>\n",
       "    </tr>\n",
       "    <tr>\n",
       "      <th>4</th>\n",
       "      <td>Jared Abbrederis</td>\n",
       "      <td>/players/A/AbbrJa00.htm</td>\n",
       "    </tr>\n",
       "    <tr>\n",
       "      <th>...</th>\n",
       "      <td>...</td>\n",
       "      <td>...</td>\n",
       "    </tr>\n",
       "    <tr>\n",
       "      <th>26475</th>\n",
       "      <td>Jeremy Zuttah</td>\n",
       "      <td>/players/Z/ZuttJe20.htm</td>\n",
       "    </tr>\n",
       "    <tr>\n",
       "      <th>26476</th>\n",
       "      <td>Merle Zuver</td>\n",
       "      <td>/players/Z/ZuveMe20.htm</td>\n",
       "    </tr>\n",
       "    <tr>\n",
       "      <th>26477</th>\n",
       "      <td>Tony Zuzzio</td>\n",
       "      <td>/players/Z/ZuzzTo20.htm</td>\n",
       "    </tr>\n",
       "    <tr>\n",
       "      <th>26478</th>\n",
       "      <td>Brandon Zylstra</td>\n",
       "      <td>/players/Z/ZylsBr00.htm</td>\n",
       "    </tr>\n",
       "    <tr>\n",
       "      <th>26479</th>\n",
       "      <td>Jim Zyntell</td>\n",
       "      <td>/players/Z/ZyntJi20.htm</td>\n",
       "    </tr>\n",
       "  </tbody>\n",
       "</table>\n",
       "<p>26480 rows × 2 columns</p>\n",
       "</div>"
      ],
      "text/plain": [
       "                   name                   url_root\n",
       "0         Isaako Aaitui    /players/A/AaitIs00.htm\n",
       "1             Joe Abbey    /players/A/AbbeJo20.htm\n",
       "2            Fay Abbott    /players/A/AbboFa20.htm\n",
       "3          Vince Abbott  /players/A/abbotvin01.htm\n",
       "4      Jared Abbrederis    /players/A/AbbrJa00.htm\n",
       "...                 ...                        ...\n",
       "26475     Jeremy Zuttah    /players/Z/ZuttJe20.htm\n",
       "26476       Merle Zuver    /players/Z/ZuveMe20.htm\n",
       "26477       Tony Zuzzio    /players/Z/ZuzzTo20.htm\n",
       "26478   Brandon Zylstra    /players/Z/ZylsBr00.htm\n",
       "26479       Jim Zyntell    /players/Z/ZyntJi20.htm\n",
       "\n",
       "[26480 rows x 2 columns]"
      ]
     },
     "execution_count": 7,
     "metadata": {},
     "output_type": "execute_result"
    }
   ],
   "source": [
    "reference_df"
   ]
  },
  {
   "cell_type": "markdown",
   "metadata": {},
   "source": [
    "The result of the code up to this point is a 26480 by 2 table where every name has a corresponding URL root. The URL root is valuable, but the full url link is even more useful for later operations. That full URL can readily be produced by building a column that combines the website address prefix with the URL root."
   ]
  },
  {
   "cell_type": "code",
   "execution_count": 8,
   "metadata": {},
   "outputs": [],
   "source": [
    "reference_df['full_url'] = 'https://www.pro-football-reference.com' + reference_df['url_root']"
   ]
  },
  {
   "cell_type": "code",
   "execution_count": 9,
   "metadata": {},
   "outputs": [
    {
     "data": {
      "text/html": [
       "<div>\n",
       "<style scoped>\n",
       "    .dataframe tbody tr th:only-of-type {\n",
       "        vertical-align: middle;\n",
       "    }\n",
       "\n",
       "    .dataframe tbody tr th {\n",
       "        vertical-align: top;\n",
       "    }\n",
       "\n",
       "    .dataframe thead th {\n",
       "        text-align: right;\n",
       "    }\n",
       "</style>\n",
       "<table border=\"1\" class=\"dataframe\">\n",
       "  <thead>\n",
       "    <tr style=\"text-align: right;\">\n",
       "      <th></th>\n",
       "      <th>name</th>\n",
       "      <th>url_root</th>\n",
       "      <th>full_url</th>\n",
       "    </tr>\n",
       "  </thead>\n",
       "  <tbody>\n",
       "    <tr>\n",
       "      <th>0</th>\n",
       "      <td>Isaako Aaitui</td>\n",
       "      <td>/players/A/AaitIs00.htm</td>\n",
       "      <td>https://www.pro-football-reference.com/players...</td>\n",
       "    </tr>\n",
       "    <tr>\n",
       "      <th>1</th>\n",
       "      <td>Joe Abbey</td>\n",
       "      <td>/players/A/AbbeJo20.htm</td>\n",
       "      <td>https://www.pro-football-reference.com/players...</td>\n",
       "    </tr>\n",
       "    <tr>\n",
       "      <th>2</th>\n",
       "      <td>Fay Abbott</td>\n",
       "      <td>/players/A/AbboFa20.htm</td>\n",
       "      <td>https://www.pro-football-reference.com/players...</td>\n",
       "    </tr>\n",
       "    <tr>\n",
       "      <th>3</th>\n",
       "      <td>Vince Abbott</td>\n",
       "      <td>/players/A/abbotvin01.htm</td>\n",
       "      <td>https://www.pro-football-reference.com/players...</td>\n",
       "    </tr>\n",
       "    <tr>\n",
       "      <th>4</th>\n",
       "      <td>Jared Abbrederis</td>\n",
       "      <td>/players/A/AbbrJa00.htm</td>\n",
       "      <td>https://www.pro-football-reference.com/players...</td>\n",
       "    </tr>\n",
       "    <tr>\n",
       "      <th>...</th>\n",
       "      <td>...</td>\n",
       "      <td>...</td>\n",
       "      <td>...</td>\n",
       "    </tr>\n",
       "    <tr>\n",
       "      <th>26475</th>\n",
       "      <td>Jeremy Zuttah</td>\n",
       "      <td>/players/Z/ZuttJe20.htm</td>\n",
       "      <td>https://www.pro-football-reference.com/players...</td>\n",
       "    </tr>\n",
       "    <tr>\n",
       "      <th>26476</th>\n",
       "      <td>Merle Zuver</td>\n",
       "      <td>/players/Z/ZuveMe20.htm</td>\n",
       "      <td>https://www.pro-football-reference.com/players...</td>\n",
       "    </tr>\n",
       "    <tr>\n",
       "      <th>26477</th>\n",
       "      <td>Tony Zuzzio</td>\n",
       "      <td>/players/Z/ZuzzTo20.htm</td>\n",
       "      <td>https://www.pro-football-reference.com/players...</td>\n",
       "    </tr>\n",
       "    <tr>\n",
       "      <th>26478</th>\n",
       "      <td>Brandon Zylstra</td>\n",
       "      <td>/players/Z/ZylsBr00.htm</td>\n",
       "      <td>https://www.pro-football-reference.com/players...</td>\n",
       "    </tr>\n",
       "    <tr>\n",
       "      <th>26479</th>\n",
       "      <td>Jim Zyntell</td>\n",
       "      <td>/players/Z/ZyntJi20.htm</td>\n",
       "      <td>https://www.pro-football-reference.com/players...</td>\n",
       "    </tr>\n",
       "  </tbody>\n",
       "</table>\n",
       "<p>26480 rows × 3 columns</p>\n",
       "</div>"
      ],
      "text/plain": [
       "                   name                   url_root  \\\n",
       "0         Isaako Aaitui    /players/A/AaitIs00.htm   \n",
       "1             Joe Abbey    /players/A/AbbeJo20.htm   \n",
       "2            Fay Abbott    /players/A/AbboFa20.htm   \n",
       "3          Vince Abbott  /players/A/abbotvin01.htm   \n",
       "4      Jared Abbrederis    /players/A/AbbrJa00.htm   \n",
       "...                 ...                        ...   \n",
       "26475     Jeremy Zuttah    /players/Z/ZuttJe20.htm   \n",
       "26476       Merle Zuver    /players/Z/ZuveMe20.htm   \n",
       "26477       Tony Zuzzio    /players/Z/ZuzzTo20.htm   \n",
       "26478   Brandon Zylstra    /players/Z/ZylsBr00.htm   \n",
       "26479       Jim Zyntell    /players/Z/ZyntJi20.htm   \n",
       "\n",
       "                                                full_url  \n",
       "0      https://www.pro-football-reference.com/players...  \n",
       "1      https://www.pro-football-reference.com/players...  \n",
       "2      https://www.pro-football-reference.com/players...  \n",
       "3      https://www.pro-football-reference.com/players...  \n",
       "4      https://www.pro-football-reference.com/players...  \n",
       "...                                                  ...  \n",
       "26475  https://www.pro-football-reference.com/players...  \n",
       "26476  https://www.pro-football-reference.com/players...  \n",
       "26477  https://www.pro-football-reference.com/players...  \n",
       "26478  https://www.pro-football-reference.com/players...  \n",
       "26479  https://www.pro-football-reference.com/players...  \n",
       "\n",
       "[26480 rows x 3 columns]"
      ]
     },
     "execution_count": 9,
     "metadata": {},
     "output_type": "execute_result"
    }
   ],
   "source": [
    "reference_df"
   ]
  },
  {
   "cell_type": "markdown",
   "metadata": {},
   "source": [
    "At this point, a player's name is enough information to retrieve a link to view their PFR page. This would be enough for lookup use, but it notably does not handle players with the same name well (it does not give the user a means to specify which player by the name they are looking for). Asking the user to provide the player name, team, and year should be sufficient for all but the rarest edge cases.  "
   ]
  },
  {
   "cell_type": "code",
   "execution_count": null,
   "metadata": {},
   "outputs": [],
   "source": []
  }
 ],
 "metadata": {
  "kernelspec": {
   "display_name": "Python 3",
   "language": "python",
   "name": "python3"
  },
  "language_info": {
   "codemirror_mode": {
    "name": "ipython",
    "version": 3
   },
   "file_extension": ".py",
   "mimetype": "text/x-python",
   "name": "python",
   "nbconvert_exporter": "python",
   "pygments_lexer": "ipython3",
   "version": "3.8.5"
  }
 },
 "nbformat": 4,
 "nbformat_minor": 4
}
